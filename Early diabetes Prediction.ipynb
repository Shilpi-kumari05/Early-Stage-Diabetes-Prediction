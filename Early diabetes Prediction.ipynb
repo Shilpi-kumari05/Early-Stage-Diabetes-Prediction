    # Importing the libraries
    import numpy as np
    import matplotlib.pyplot as plt
    import pandas as pd
   
    data = pd.read_csv(\C:/Users/HP/Downloads/archive/diabetes.csv\)
   
    data.dtypes
   
    data.info()
   
    data[['Glucose''BloodPressure''SkinThickness''Insulin''BMI']] = data[['Glucose''BloodPressure''SkinThickness''Insulin''BMI']].replace(0np.NaN)
   
    
# calculating missing percentage values
    round(data.isnull().sum() * 100 / len(data) 2)
   
    
#calculating of missing value 
    data.isnull().sum()
    data['Glucose'].fillna(data['Glucose'].mean() inplace=True)
    data['BloodPressure'].fillna(data['BloodPressure'].mean() inplace=True)
    data['SkinThickness'].fillna(data['SkinThickness'].mean() inplace=True)
    data['Insulin'].fillna(data['Insulin'].mean() inplace=True)
    data['BMI'].fillna(data['BMI'].mean() inplace=True)
      
    
# listing missing percentage values
    print(\..........listing missing percentage values..........\)
    print(round(data.isnull().sum() * 100 / len(data) 2))
          
    #listing of missing value 
    print(\..........listing of missing values..........\)
    print(data.isnull().sum())


    
#data visulaization
    import seaborn as sns
    sns.heatmap(data.corr())
   
    sns.pairplot(datahue='Outcome')
   

    X=data.drop('Outcome'axis=1)
    y=data['Outcome']
   
    
#splitting dataset into train and test
    from sklearn.model_selection import train_test_split
    X_train X_test y_train y_test = train_test_split(X ytest_size=0.2random_state=123)
   

    
#model Building
    import keras
    keras.backend.clear_session()
   
    from sklearn.preprocessing import StandardScaler
    scaling_x=StandardScaler()
    X_train=scaling_x.fit_transform(X_train)
    X_test=scaling_x.transform(X_test)
    from sklearn.ensemble import RandomForestClassifier
    rfc = RandomForestClassifier()
    rfc.fit(X_train y_train)
    y_pred=rfc.predict(X_test)
    rfc.score(X_test y_test)


    
#Plotting decision boundaries
    from mlxtend.plotting import plot_decision_regions
    def classify_with_rfc(XY):
        x = data[[XY]].values
        y = data['Outcome'].astype(int).values
        rfc = RandomForestClassifier()
        rfc.fit(xy)
        # Plotting decision region
        plot_decision_regions(x y clf=rfc legend=2)
        # Adding axes annotations
        plt.xlabel(X)
        plt.ylabel(Y)
        plt.show()
        
    feat = ['Pregnancies' 'Glucose' 'BloodPressure' 'SkinThickness' 'Insulin''BMI' 'DiabetesPedigreeFunction' 'Age']
    size = len(feat)
    for i in range(0size):
        for j in range(i+1size):
            classify_with_rfc(feat[i]feat[j])
      
 
  #confusion matrix
    from sklearn.metrics import confusion_matrix
    mat = confusion_matrix(y_test y_pred)
    plt.figure(figsize=(7 5))
    sns.heatmap(mat annot=True)
   
 #Classification report
    from sklearn.metrics import classification_report
    target_names = ['Diabetes' 'Normal']
    print(classification_report(y_test y_pred target_names=target_names))
    
#ROC curve
    from sklearn.metrics import roc_curve
    y_pred_proba = rfc.predict_proba(X_test)[:1]
    fpr tpr thresholds = roc_curve(y_test y_pred_proba)
    plt.plot([01][01]'k-')
    plt.plot(fprtpr label='Knn')
    plt.xlabel('fpr')
    plt.ylabel('tpr')
    plt.title('ROC curve')
    plt.show()
   
    from sklearn.metrics import roc_auc_score
    roc_auc_score(y_testy_pred_proba)
   


